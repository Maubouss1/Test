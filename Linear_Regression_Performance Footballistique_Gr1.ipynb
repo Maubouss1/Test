{
 "cells": [
  {
   "cell_type": "markdown",
   "metadata": {},
   "source": [
    "   > ## Importation des librairies:"
   ]
  },
  {
   "cell_type": "code",
   "execution_count": null,
   "metadata": {},
   "outputs": [],
   "source": [
    "## Algorithme basé sur:\n",
    "## -Normalisation manuelle\n",
    "## -BDD de 37 équipes\n",
    "## -Suppression des deux variables : Supporters et joueurs formés club"
   ]
  },
  {
   "cell_type": "code",
   "execution_count": 1,
   "metadata": {},
   "outputs": [],
   "source": [
    "import numpy as np\n",
    "import pandas as pd\n",
    "import matplotlib.pyplot as plt\n",
    "import seaborn as sns\n",
    "%matplotlib inline"
   ]
  },
  {
   "cell_type": "markdown",
   "metadata": {},
   "source": [
    "> ## Importation des algorithmes:"
   ]
  },
  {
   "cell_type": "code",
   "execution_count": 2,
   "metadata": {},
   "outputs": [],
   "source": [
    "from sklearn import datasets, linear_model #sklearn est une mine d'or pour faire du machine learning dans Python.\n",
    "from sklearn.metrics import mean_squared_error"
   ]
  },
  {
   "cell_type": "markdown",
   "metadata": {},
   "source": [
    "> ## Importation du jeu de donnees et description:"
   ]
  },
  {
   "cell_type": "code",
   "execution_count": 3,
   "metadata": {},
   "outputs": [],
   "source": [
    "#J'importe mon jeu de données.Il s'agit ici d'un jeu de données e-commerce importé depuis mon ordinateur (pas depuis sklearn)\n",
    "GA = pd.read_excel (r\"C:\\Users\\tangu\\OneDrive\\Bureau\\Python\\BDD_Football_37_manu_sans var.xlsx\")"
   ]
  },
  {
   "cell_type": "code",
   "execution_count": 4,
   "metadata": {},
   "outputs": [
    {
     "data": {
      "text/html": [
       "<div>\n",
       "<style scoped>\n",
       "    .dataframe tbody tr th:only-of-type {\n",
       "        vertical-align: middle;\n",
       "    }\n",
       "\n",
       "    .dataframe tbody tr th {\n",
       "        vertical-align: top;\n",
       "    }\n",
       "\n",
       "    .dataframe thead th {\n",
       "        text-align: right;\n",
       "    }\n",
       "</style>\n",
       "<table border=\"1\" class=\"dataframe\">\n",
       "  <thead>\n",
       "    <tr style=\"text-align: right;\">\n",
       "      <th></th>\n",
       "      <th>CLUB</th>\n",
       "      <th>Perf</th>\n",
       "      <th>Budget transfert</th>\n",
       "      <th>Valeur club</th>\n",
       "      <th>Age équipe</th>\n",
       "      <th>Prix équipe</th>\n",
       "    </tr>\n",
       "  </thead>\n",
       "  <tbody>\n",
       "    <tr>\n",
       "      <th>0</th>\n",
       "      <td>Real Madrid</td>\n",
       "      <td>1.000000</td>\n",
       "      <td>0.708148</td>\n",
       "      <td>0.837209</td>\n",
       "      <td>0.958507</td>\n",
       "      <td>0.915749</td>\n",
       "    </tr>\n",
       "    <tr>\n",
       "      <th>1</th>\n",
       "      <td>Bayern</td>\n",
       "      <td>0.836842</td>\n",
       "      <td>0.534815</td>\n",
       "      <td>0.709302</td>\n",
       "      <td>0.932755</td>\n",
       "      <td>0.779721</td>\n",
       "    </tr>\n",
       "    <tr>\n",
       "      <th>2</th>\n",
       "      <td>Barcelone</td>\n",
       "      <td>0.826316</td>\n",
       "      <td>0.602222</td>\n",
       "      <td>0.821705</td>\n",
       "      <td>0.946470</td>\n",
       "      <td>0.999996</td>\n",
       "    </tr>\n",
       "    <tr>\n",
       "      <th>3</th>\n",
       "      <td>Atlético Madrid</td>\n",
       "      <td>0.621053</td>\n",
       "      <td>0.302963</td>\n",
       "      <td>0.668992</td>\n",
       "      <td>0.917593</td>\n",
       "      <td>0.776220</td>\n",
       "    </tr>\n",
       "    <tr>\n",
       "      <th>4</th>\n",
       "      <td>Chelsea</td>\n",
       "      <td>0.592105</td>\n",
       "      <td>0.566667</td>\n",
       "      <td>0.655039</td>\n",
       "      <td>0.917998</td>\n",
       "      <td>0.893489</td>\n",
       "    </tr>\n",
       "    <tr>\n",
       "      <th>5</th>\n",
       "      <td>Juventus</td>\n",
       "      <td>0.565789</td>\n",
       "      <td>0.466667</td>\n",
       "      <td>0.590698</td>\n",
       "      <td>0.999595</td>\n",
       "      <td>0.688582</td>\n",
       "    </tr>\n",
       "    <tr>\n",
       "      <th>6</th>\n",
       "      <td>Manchester U</td>\n",
       "      <td>0.555263</td>\n",
       "      <td>1.000000</td>\n",
       "      <td>0.620155</td>\n",
       "      <td>0.862211</td>\n",
       "      <td>0.745528</td>\n",
       "    </tr>\n",
       "    <tr>\n",
       "      <th>7</th>\n",
       "      <td>PSG</td>\n",
       "      <td>0.539474</td>\n",
       "      <td>0.942222</td>\n",
       "      <td>0.782946</td>\n",
       "      <td>0.928530</td>\n",
       "      <td>0.852149</td>\n",
       "    </tr>\n",
       "    <tr>\n",
       "      <th>8</th>\n",
       "      <td>Porto</td>\n",
       "      <td>0.500000</td>\n",
       "      <td>0.194074</td>\n",
       "      <td>0.210078</td>\n",
       "      <td>0.939120</td>\n",
       "      <td>0.273918</td>\n",
       "    </tr>\n",
       "    <tr>\n",
       "      <th>9</th>\n",
       "      <td>Manchester City</td>\n",
       "      <td>0.494737</td>\n",
       "      <td>0.960741</td>\n",
       "      <td>1.000000</td>\n",
       "      <td>0.941609</td>\n",
       "      <td>0.996998</td>\n",
       "    </tr>\n",
       "  </tbody>\n",
       "</table>\n",
       "</div>"
      ],
      "text/plain": [
       "              CLUB      Perf  Budget transfert  Valeur club  Age équipe  \\\n",
       "0      Real Madrid  1.000000          0.708148     0.837209    0.958507   \n",
       "1           Bayern  0.836842          0.534815     0.709302    0.932755   \n",
       "2        Barcelone  0.826316          0.602222     0.821705    0.946470   \n",
       "3  Atlético Madrid  0.621053          0.302963     0.668992    0.917593   \n",
       "4          Chelsea  0.592105          0.566667     0.655039    0.917998   \n",
       "5         Juventus  0.565789          0.466667     0.590698    0.999595   \n",
       "6     Manchester U  0.555263          1.000000     0.620155    0.862211   \n",
       "7              PSG  0.539474          0.942222     0.782946    0.928530   \n",
       "8            Porto  0.500000          0.194074     0.210078    0.939120   \n",
       "9  Manchester City  0.494737          0.960741     1.000000    0.941609   \n",
       "\n",
       "   Prix équipe  \n",
       "0     0.915749  \n",
       "1     0.779721  \n",
       "2     0.999996  \n",
       "3     0.776220  \n",
       "4     0.893489  \n",
       "5     0.688582  \n",
       "6     0.745528  \n",
       "7     0.852149  \n",
       "8     0.273918  \n",
       "9     0.996998  "
      ]
     },
     "execution_count": 4,
     "metadata": {},
     "output_type": "execute_result"
    }
   ],
   "source": [
    "#Regardons à quoi ressemble le jeu de données en question.\n",
    "GA.head(10)"
   ]
  },
  {
   "cell_type": "code",
   "execution_count": 5,
   "metadata": {},
   "outputs": [
    {
     "data": {
      "text/plain": [
       "(37, 6)"
      ]
     },
     "execution_count": 5,
     "metadata": {},
     "output_type": "execute_result"
    }
   ],
   "source": [
    "#Quelle est la taille du jeu de données?\n",
    "GA.shape"
   ]
  },
  {
   "cell_type": "code",
   "execution_count": 6,
   "metadata": {},
   "outputs": [
    {
     "data": {
      "text/plain": [
       "CLUB                0\n",
       "Perf                0\n",
       "Budget transfert    0\n",
       "Valeur club         0\n",
       "Age équipe          0\n",
       "Prix équipe         0\n",
       "dtype: int64"
      ]
     },
     "execution_count": 6,
     "metadata": {},
     "output_type": "execute_result"
    }
   ],
   "source": [
    "#Ici, je vérifie que je n'ai pas de données manquantes.\n",
    "GA.isnull().sum()"
   ]
  },
  {
   "cell_type": "code",
   "execution_count": 7,
   "metadata": {},
   "outputs": [
    {
     "data": {
      "text/plain": [
       "CLUB                 object\n",
       "Perf                float64\n",
       "Budget transfert    float64\n",
       "Valeur club         float64\n",
       "Age équipe          float64\n",
       "Prix équipe         float64\n",
       "dtype: object"
      ]
     },
     "execution_count": 7,
     "metadata": {},
     "output_type": "execute_result"
    }
   ],
   "source": [
    "GA.dtypes ## format des variables"
   ]
  },
  {
   "cell_type": "code",
   "execution_count": 8,
   "metadata": {},
   "outputs": [
    {
     "name": "stdout",
     "output_type": "stream",
     "text": [
      "Index(['CLUB', 'Perf', 'Budget transfert', 'Valeur club', 'Age équipe',\n",
      "       'Prix équipe'],\n",
      "      dtype='object')\n"
     ]
    }
   ],
   "source": [
    "print (GA.columns)"
   ]
  },
  {
   "cell_type": "code",
   "execution_count": 9,
   "metadata": {
    "scrolled": false
   },
   "outputs": [
    {
     "data": {
      "text/html": [
       "<div>\n",
       "<style scoped>\n",
       "    .dataframe tbody tr th:only-of-type {\n",
       "        vertical-align: middle;\n",
       "    }\n",
       "\n",
       "    .dataframe tbody tr th {\n",
       "        vertical-align: top;\n",
       "    }\n",
       "\n",
       "    .dataframe thead th {\n",
       "        text-align: right;\n",
       "    }\n",
       "</style>\n",
       "<table border=\"1\" class=\"dataframe\">\n",
       "  <thead>\n",
       "    <tr style=\"text-align: right;\">\n",
       "      <th></th>\n",
       "      <th>Perf</th>\n",
       "      <th>Budget transfert</th>\n",
       "      <th>Valeur club</th>\n",
       "      <th>Age équipe</th>\n",
       "      <th>Prix équipe</th>\n",
       "    </tr>\n",
       "  </thead>\n",
       "  <tbody>\n",
       "    <tr>\n",
       "      <th>count</th>\n",
       "      <td>37.000000</td>\n",
       "      <td>37.000000</td>\n",
       "      <td>37.000000</td>\n",
       "      <td>37.000000</td>\n",
       "      <td>37.000000</td>\n",
       "    </tr>\n",
       "    <tr>\n",
       "      <th>mean</th>\n",
       "      <td>0.414794</td>\n",
       "      <td>0.303063</td>\n",
       "      <td>0.395789</td>\n",
       "      <td>0.902144</td>\n",
       "      <td>0.460830</td>\n",
       "    </tr>\n",
       "    <tr>\n",
       "      <th>std</th>\n",
       "      <td>0.194561</td>\n",
       "      <td>0.262330</td>\n",
       "      <td>0.272980</td>\n",
       "      <td>0.047077</td>\n",
       "      <td>0.291714</td>\n",
       "    </tr>\n",
       "    <tr>\n",
       "      <th>min</th>\n",
       "      <td>0.144737</td>\n",
       "      <td>0.056296</td>\n",
       "      <td>0.040310</td>\n",
       "      <td>0.802083</td>\n",
       "      <td>0.068078</td>\n",
       "    </tr>\n",
       "    <tr>\n",
       "      <th>25%</th>\n",
       "      <td>0.242105</td>\n",
       "      <td>0.103704</td>\n",
       "      <td>0.162016</td>\n",
       "      <td>0.864583</td>\n",
       "      <td>0.218552</td>\n",
       "    </tr>\n",
       "    <tr>\n",
       "      <th>50%</th>\n",
       "      <td>0.389474</td>\n",
       "      <td>0.211852</td>\n",
       "      <td>0.324806</td>\n",
       "      <td>0.917072</td>\n",
       "      <td>0.379307</td>\n",
       "    </tr>\n",
       "    <tr>\n",
       "      <th>75%</th>\n",
       "      <td>0.494737</td>\n",
       "      <td>0.401481</td>\n",
       "      <td>0.620155</td>\n",
       "      <td>0.933738</td>\n",
       "      <td>0.745528</td>\n",
       "    </tr>\n",
       "    <tr>\n",
       "      <th>max</th>\n",
       "      <td>1.000000</td>\n",
       "      <td>1.000000</td>\n",
       "      <td>1.000000</td>\n",
       "      <td>0.999595</td>\n",
       "      <td>0.999996</td>\n",
       "    </tr>\n",
       "  </tbody>\n",
       "</table>\n",
       "</div>"
      ],
      "text/plain": [
       "            Perf  Budget transfert  Valeur club  Age équipe  Prix équipe\n",
       "count  37.000000         37.000000    37.000000   37.000000    37.000000\n",
       "mean    0.414794          0.303063     0.395789    0.902144     0.460830\n",
       "std     0.194561          0.262330     0.272980    0.047077     0.291714\n",
       "min     0.144737          0.056296     0.040310    0.802083     0.068078\n",
       "25%     0.242105          0.103704     0.162016    0.864583     0.218552\n",
       "50%     0.389474          0.211852     0.324806    0.917072     0.379307\n",
       "75%     0.494737          0.401481     0.620155    0.933738     0.745528\n",
       "max     1.000000          1.000000     1.000000    0.999595     0.999996"
      ]
     },
     "execution_count": 9,
     "metadata": {},
     "output_type": "execute_result"
    }
   ],
   "source": [
    "GA.describe()\n",
    "#Ici, je sors les valeurs clés pour chacune de mes données. "
   ]
  },
  {
   "cell_type": "markdown",
   "metadata": {},
   "source": [
    "> ## Définition de la variable à prédire:"
   ]
  },
  {
   "cell_type": "code",
   "execution_count": 10,
   "metadata": {},
   "outputs": [
    {
     "data": {
      "text/html": [
       "<div>\n",
       "<style scoped>\n",
       "    .dataframe tbody tr th:only-of-type {\n",
       "        vertical-align: middle;\n",
       "    }\n",
       "\n",
       "    .dataframe tbody tr th {\n",
       "        vertical-align: top;\n",
       "    }\n",
       "\n",
       "    .dataframe thead th {\n",
       "        text-align: right;\n",
       "    }\n",
       "</style>\n",
       "<table border=\"1\" class=\"dataframe\">\n",
       "  <thead>\n",
       "    <tr style=\"text-align: right;\">\n",
       "      <th></th>\n",
       "      <th>Budget transfert</th>\n",
       "      <th>Valeur club</th>\n",
       "      <th>Age équipe</th>\n",
       "      <th>Prix équipe</th>\n",
       "    </tr>\n",
       "  </thead>\n",
       "  <tbody>\n",
       "    <tr>\n",
       "      <th>0</th>\n",
       "      <td>0.708148</td>\n",
       "      <td>0.837209</td>\n",
       "      <td>0.958507</td>\n",
       "      <td>0.915749</td>\n",
       "    </tr>\n",
       "    <tr>\n",
       "      <th>1</th>\n",
       "      <td>0.534815</td>\n",
       "      <td>0.709302</td>\n",
       "      <td>0.932755</td>\n",
       "      <td>0.779721</td>\n",
       "    </tr>\n",
       "    <tr>\n",
       "      <th>2</th>\n",
       "      <td>0.602222</td>\n",
       "      <td>0.821705</td>\n",
       "      <td>0.946470</td>\n",
       "      <td>0.999996</td>\n",
       "    </tr>\n",
       "    <tr>\n",
       "      <th>3</th>\n",
       "      <td>0.302963</td>\n",
       "      <td>0.668992</td>\n",
       "      <td>0.917593</td>\n",
       "      <td>0.776220</td>\n",
       "    </tr>\n",
       "    <tr>\n",
       "      <th>4</th>\n",
       "      <td>0.566667</td>\n",
       "      <td>0.655039</td>\n",
       "      <td>0.917998</td>\n",
       "      <td>0.893489</td>\n",
       "    </tr>\n",
       "  </tbody>\n",
       "</table>\n",
       "</div>"
      ],
      "text/plain": [
       "   Budget transfert  Valeur club  Age équipe  Prix équipe\n",
       "0          0.708148     0.837209    0.958507     0.915749\n",
       "1          0.534815     0.709302    0.932755     0.779721\n",
       "2          0.602222     0.821705    0.946470     0.999996\n",
       "3          0.302963     0.668992    0.917593     0.776220\n",
       "4          0.566667     0.655039    0.917998     0.893489"
      ]
     },
     "execution_count": 10,
     "metadata": {},
     "output_type": "execute_result"
    }
   ],
   "source": [
    "X = GA.iloc[:,2:8] ## On définit que X prend l'ensemble des variables de la colonne 2 à 8.\n",
    "X.head() ## On affiche le tableau avec les valeurs sélectionnés."
   ]
  },
  {
   "cell_type": "code",
   "execution_count": 11,
   "metadata": {
    "scrolled": false
   },
   "outputs": [
    {
     "data": {
      "text/plain": [
       "0    1.000000\n",
       "1    0.836842\n",
       "2    0.826316\n",
       "3    0.621053\n",
       "4    0.592105\n",
       "Name: Perf, dtype: float64"
      ]
     },
     "execution_count": 11,
     "metadata": {},
     "output_type": "execute_result"
    }
   ],
   "source": [
    "Y=GA.Perf ## On définit que Y prend la colonne Perf du jeu de données GA.\n",
    "Y.head() ## On affiche le tableau avec les valeurs sélectionnés."
   ]
  },
  {
   "cell_type": "markdown",
   "metadata": {},
   "source": [
    "> ## Exploration des donnees ou EDA: Exploratory Data Analysis:"
   ]
  },
  {
   "cell_type": "code",
   "execution_count": 12,
   "metadata": {
    "scrolled": false
   },
   "outputs": [
    {
     "data": {
      "text/plain": [
       "<seaborn.axisgrid.PairGrid at 0x265f1960a90>"
      ]
     },
     "execution_count": 12,
     "metadata": {},
     "output_type": "execute_result"
    },
    {
     "data": {
      "image/png": "[encoded data removed]",
      "text/plain": [
       "<Figure size 900x900 with 30 Axes>"
      ]
     },
     "metadata": {
      "needs_background": "light"
     },
     "output_type": "display_data"
    }
   ],
   "source": [
    "sns.pairplot(GA, kind=\"reg\") #Observons la linearite ou pas de toutes nos variables les unes comparees aux autres."
   ]
  },
  {
   "cell_type": "code",
   "execution_count": 13,
   "metadata": {},
   "outputs": [
    {
     "data": {
      "text/html": [
       "<div>\n",
       "<style scoped>\n",
       "    .dataframe tbody tr th:only-of-type {\n",
       "        vertical-align: middle;\n",
       "    }\n",
       "\n",
       "    .dataframe tbody tr th {\n",
       "        vertical-align: top;\n",
       "    }\n",
       "\n",
       "    .dataframe thead th {\n",
       "        text-align: right;\n",
       "    }\n",
       "</style>\n",
       "<table border=\"1\" class=\"dataframe\">\n",
       "  <thead>\n",
       "    <tr style=\"text-align: right;\">\n",
       "      <th></th>\n",
       "      <th>Perf</th>\n",
       "      <th>Budget transfert</th>\n",
       "      <th>Valeur club</th>\n",
       "      <th>Age équipe</th>\n",
       "      <th>Prix équipe</th>\n",
       "    </tr>\n",
       "  </thead>\n",
       "  <tbody>\n",
       "    <tr>\n",
       "      <th>count</th>\n",
       "      <td>37.000000</td>\n",
       "      <td>37.000000</td>\n",
       "      <td>37.000000</td>\n",
       "      <td>37.000000</td>\n",
       "      <td>37.000000</td>\n",
       "    </tr>\n",
       "    <tr>\n",
       "      <th>mean</th>\n",
       "      <td>0.414794</td>\n",
       "      <td>0.303063</td>\n",
       "      <td>0.395789</td>\n",
       "      <td>0.902144</td>\n",
       "      <td>0.460830</td>\n",
       "    </tr>\n",
       "    <tr>\n",
       "      <th>std</th>\n",
       "      <td>0.194561</td>\n",
       "      <td>0.262330</td>\n",
       "      <td>0.272980</td>\n",
       "      <td>0.047077</td>\n",
       "      <td>0.291714</td>\n",
       "    </tr>\n",
       "    <tr>\n",
       "      <th>min</th>\n",
       "      <td>0.144737</td>\n",
       "      <td>0.056296</td>\n",
       "      <td>0.040310</td>\n",
       "      <td>0.802083</td>\n",
       "      <td>0.068078</td>\n",
       "    </tr>\n",
       "    <tr>\n",
       "      <th>25%</th>\n",
       "      <td>0.242105</td>\n",
       "      <td>0.103704</td>\n",
       "      <td>0.162016</td>\n",
       "      <td>0.864583</td>\n",
       "      <td>0.218552</td>\n",
       "    </tr>\n",
       "    <tr>\n",
       "      <th>50%</th>\n",
       "      <td>0.389474</td>\n",
       "      <td>0.211852</td>\n",
       "      <td>0.324806</td>\n",
       "      <td>0.917072</td>\n",
       "      <td>0.379307</td>\n",
       "    </tr>\n",
       "    <tr>\n",
       "      <th>75%</th>\n",
       "      <td>0.494737</td>\n",
       "      <td>0.401481</td>\n",
       "      <td>0.620155</td>\n",
       "      <td>0.933738</td>\n",
       "      <td>0.745528</td>\n",
       "    </tr>\n",
       "    <tr>\n",
       "      <th>max</th>\n",
       "      <td>1.000000</td>\n",
       "      <td>1.000000</td>\n",
       "      <td>1.000000</td>\n",
       "      <td>0.999595</td>\n",
       "      <td>0.999996</td>\n",
       "    </tr>\n",
       "  </tbody>\n",
       "</table>\n",
       "</div>"
      ],
      "text/plain": [
       "            Perf  Budget transfert  Valeur club  Age équipe  Prix équipe\n",
       "count  37.000000         37.000000    37.000000   37.000000    37.000000\n",
       "mean    0.414794          0.303063     0.395789    0.902144     0.460830\n",
       "std     0.194561          0.262330     0.272980    0.047077     0.291714\n",
       "min     0.144737          0.056296     0.040310    0.802083     0.068078\n",
       "25%     0.242105          0.103704     0.162016    0.864583     0.218552\n",
       "50%     0.389474          0.211852     0.324806    0.917072     0.379307\n",
       "75%     0.494737          0.401481     0.620155    0.933738     0.745528\n",
       "max     1.000000          1.000000     1.000000    0.999595     0.999996"
      ]
     },
     "execution_count": 13,
     "metadata": {},
     "output_type": "execute_result"
    }
   ],
   "source": [
    "GA.describe()"
   ]
  },
  {
   "cell_type": "markdown",
   "metadata": {},
   "source": [
    "> ## Demarrage de la phase de test:"
   ]
  },
  {
   "cell_type": "code",
   "execution_count": 14,
   "metadata": {},
   "outputs": [],
   "source": [
    "from sklearn.model_selection import train_test_split "
   ]
  },
  {
   "cell_type": "markdown",
   "metadata": {},
   "source": [
    "> ## **C'est la ou la partie learning de Machine Learning rentre en scene!**\n",
    "\n",
    "Remarquez aussi **split**, cela signifie que l'on va diviser notre jeu de donnee en deux: une partie pour la premiere phase qui correspond a la phase d'**l'entrainement** de la machine et l'autre partie pour **tester** si ce que la machine aura appris est fiable."
   ]
  },
  {
   "cell_type": "code",
   "execution_count": 15,
   "metadata": {},
   "outputs": [],
   "source": [
    "X_train, X_test, Y_train, Y_test = train_test_split(X, Y, test_size=0.5, random_state=42) "
   ]
  },
  {
   "cell_type": "code",
   "execution_count": 16,
   "metadata": {
    "scrolled": true
   },
   "outputs": [
    {
     "name": "stdout",
     "output_type": "stream",
     "text": [
      "(18, 4)\n",
      "(19, 4)\n",
      "(18,)\n",
      "(19,)\n"
     ]
    }
   ],
   "source": [
    "print (X_train.shape)\n",
    "print (X_test.shape)\n",
    "print (Y_train.shape)\n",
    "print (Y_test.shape)"
   ]
  },
  {
   "cell_type": "markdown",
   "metadata": {},
   "source": [
    "> ## Installation du modele de regression lineaire sur le jeu de donnees:"
   ]
  },
  {
   "cell_type": "code",
   "execution_count": 17,
   "metadata": {},
   "outputs": [
    {
     "data": {
      "text/plain": [
       "LinearRegression()"
      ]
     },
     "execution_count": 17,
     "metadata": {},
     "output_type": "execute_result"
    }
   ],
   "source": [
    "# On cree une instance de notre modele\n",
    "lm1 = linear_model.LinearRegression()\n",
    "\n",
    "#On fit/installe notre modele sur notre jeu de donnees.\n",
    "lm1.fit(X_train, Y_train)"
   ]
  },
  {
   "cell_type": "code",
   "execution_count": 18,
   "metadata": {},
   "outputs": [
    {
     "name": "stdout",
     "output_type": "stream",
     "text": [
      "[ 0.16825282 -0.85592884 -0.88500894  1.27349209]\n"
     ]
    }
   ],
   "source": [
    "print (lm1.coef_)#Interpreter la signification des coefficients"
   ]
  },
  {
   "cell_type": "code",
   "execution_count": 19,
   "metadata": {},
   "outputs": [
    {
     "name": "stdout",
     "output_type": "stream",
     "text": [
      "0.9271417710127352\n"
     ]
    }
   ],
   "source": [
    "print (lm1.intercept_) \n",
    "# sans aucune influence des facteurs budget transfert, valeur club etc... l'indice de performance est de 0,92"
   ]
  },
  {
   "cell_type": "code",
   "execution_count": 20,
   "metadata": {},
   "outputs": [
    {
     "name": "stdout",
     "output_type": "stream",
     "text": [
      "[0.39262146 0.32932404 0.78723333 0.22000862 0.50284998 0.3943029\n",
      " 0.75094606 0.38568915 0.34061871 0.62126426]\n"
     ]
    }
   ],
   "source": [
    "pred1 = lm1.predict(X_test)\n",
    "#Ici, on sort les 10 premieres valeurs predites par notre learning post apprentissage.\n",
    "print(lm1.predict(X_test[0:10]))"
   ]
  },
  {
   "cell_type": "markdown",
   "metadata": {},
   "source": [
    "> ## Evaluation du modele:"
   ]
  },
  {
   "cell_type": "markdown",
   "metadata": {},
   "source": [
    "> ### 1) Calcul de l'erreur du modele:"
   ]
  },
  {
   "cell_type": "code",
   "execution_count": 21,
   "metadata": {
    "scrolled": true
   },
   "outputs": [
    {
     "name": "stdout",
     "output_type": "stream",
     "text": [
      "0.16802079333084055\n"
     ]
    }
   ],
   "source": [
    "print (np.sqrt(mean_squared_error(Y_test, pred1))) ## marge d'erreur, donné dans l'unité de mesure de notre jeu de données (%)"
   ]
  },
  {
   "cell_type": "markdown",
   "metadata": {},
   "source": [
    "> ### 2) Calcul du score du modele:"
   ]
  },
  {
   "cell_type": "code",
   "execution_count": 22,
   "metadata": {},
   "outputs": [
    {
     "name": "stdout",
     "output_type": "stream",
     "text": [
      "0.1821980846428548\n"
     ]
    }
   ],
   "source": [
    "score1=lm1.score(X_test,Y_test)\n",
    "print (score1)\n",
    "## Le R2 est de 18,2% ==> faible mais cohérent à la vue de notre jeu de données"
   ]
  },
  {
   "cell_type": "markdown",
   "metadata": {},
   "source": [
    "> ### 3) Calcul de l'erreur du modele de base:"
   ]
  },
  {
   "cell_type": "code",
   "execution_count": 23,
   "metadata": {},
   "outputs": [
    {
     "data": {
      "text/plain": [
       "0.4221606648199446"
      ]
     },
     "execution_count": 23,
     "metadata": {},
     "output_type": "execute_result"
    }
   ],
   "source": [
    "#baseline prediction \n",
    "baseline=np.mean(Y_test)\n",
    "baseline"
   ]
  },
  {
   "cell_type": "code",
   "execution_count": 24,
   "metadata": {},
   "outputs": [
    {
     "name": "stdout",
     "output_type": "stream",
     "text": [
      "0.18579711634613183\n"
     ]
    }
   ],
   "source": [
    "baseline_pred=np.empty(len(Y_test))# cree un nouveau tableau\n",
    "baseline_pred.fill(baseline) #rempli avec predictions\n",
    "print(np.sqrt(mean_squared_error(Y_test,baseline_pred)))\n",
    "## Correspond à la marge d'erreur du modèle, plus élevé que notre R2 = bon"
   ]
  },
  {
   "cell_type": "code",
   "execution_count": 25,
   "metadata": {},
   "outputs": [
    {
     "name": "stdout",
     "output_type": "stream",
     "text": [
      "17    0.392105\n",
      "13    0.463158\n",
      "4     0.592105\n",
      "29    0.221053\n",
      "35    0.163158\n",
      "25    0.342105\n",
      "6     0.555263\n",
      "26    0.286842\n",
      "24    0.352632\n",
      "16    0.410526\n",
      "8     0.500000\n",
      "15    0.431579\n",
      "12    0.468421\n",
      "32    0.192105\n",
      "9     0.494737\n",
      "19    0.384211\n",
      "0     1.000000\n",
      "31    0.205263\n",
      "5     0.565789\n",
      "Name: Perf, dtype: float64 [0.42216066 0.42216066 0.42216066 0.42216066 0.42216066 0.42216066\n",
      " 0.42216066 0.42216066 0.42216066 0.42216066 0.42216066 0.42216066\n",
      " 0.42216066 0.42216066 0.42216066 0.42216066 0.42216066 0.42216066\n",
      " 0.42216066]\n"
     ]
    }
   ],
   "source": [
    "print(Y_test, baseline_pred)\n",
    "#Ici, on sort les valeurs predies versus la moyenne"
   ]
  },
  {
   "cell_type": "code",
   "execution_count": 26,
   "metadata": {},
   "outputs": [
    {
     "data": {
      "text/html": [
       "<div>\n",
       "<style scoped>\n",
       "    .dataframe tbody tr th:only-of-type {\n",
       "        vertical-align: middle;\n",
       "    }\n",
       "\n",
       "    .dataframe tbody tr th {\n",
       "        vertical-align: top;\n",
       "    }\n",
       "\n",
       "    .dataframe thead th {\n",
       "        text-align: right;\n",
       "    }\n",
       "</style>\n",
       "<table border=\"1\" class=\"dataframe\">\n",
       "  <thead>\n",
       "    <tr style=\"text-align: right;\">\n",
       "      <th></th>\n",
       "      <th>Perf</th>\n",
       "      <th>Budget transfert</th>\n",
       "      <th>Valeur club</th>\n",
       "      <th>Age équipe</th>\n",
       "      <th>Prix équipe</th>\n",
       "    </tr>\n",
       "  </thead>\n",
       "  <tbody>\n",
       "    <tr>\n",
       "      <th>Perf</th>\n",
       "      <td>1.000000</td>\n",
       "      <td>0.689876</td>\n",
       "      <td>0.729949</td>\n",
       "      <td>0.328402</td>\n",
       "      <td>0.744565</td>\n",
       "    </tr>\n",
       "    <tr>\n",
       "      <th>Budget transfert</th>\n",
       "      <td>0.689876</td>\n",
       "      <td>1.000000</td>\n",
       "      <td>0.828066</td>\n",
       "      <td>0.249812</td>\n",
       "      <td>0.829243</td>\n",
       "    </tr>\n",
       "    <tr>\n",
       "      <th>Valeur club</th>\n",
       "      <td>0.729949</td>\n",
       "      <td>0.828066</td>\n",
       "      <td>1.000000</td>\n",
       "      <td>0.298025</td>\n",
       "      <td>0.984828</td>\n",
       "    </tr>\n",
       "    <tr>\n",
       "      <th>Age équipe</th>\n",
       "      <td>0.328402</td>\n",
       "      <td>0.249812</td>\n",
       "      <td>0.298025</td>\n",
       "      <td>1.000000</td>\n",
       "      <td>0.324580</td>\n",
       "    </tr>\n",
       "    <tr>\n",
       "      <th>Prix équipe</th>\n",
       "      <td>0.744565</td>\n",
       "      <td>0.829243</td>\n",
       "      <td>0.984828</td>\n",
       "      <td>0.324580</td>\n",
       "      <td>1.000000</td>\n",
       "    </tr>\n",
       "  </tbody>\n",
       "</table>\n",
       "</div>"
      ],
      "text/plain": [
       "                      Perf  Budget transfert  Valeur club  Age équipe  \\\n",
       "Perf              1.000000          0.689876     0.729949    0.328402   \n",
       "Budget transfert  0.689876          1.000000     0.828066    0.249812   \n",
       "Valeur club       0.729949          0.828066     1.000000    0.298025   \n",
       "Age équipe        0.328402          0.249812     0.298025    1.000000   \n",
       "Prix équipe       0.744565          0.829243     0.984828    0.324580   \n",
       "\n",
       "                  Prix équipe  \n",
       "Perf                 0.744565  \n",
       "Budget transfert     0.829243  \n",
       "Valeur club          0.984828  \n",
       "Age équipe           0.324580  \n",
       "Prix équipe          1.000000  "
      ]
     },
     "execution_count": 26,
     "metadata": {},
     "output_type": "execute_result"
    }
   ],
   "source": [
    "GA.corr()"
   ]
  },
  {
   "cell_type": "markdown",
   "metadata": {},
   "source": [
    "### > Interpretation ###"
   ]
  },
  {
   "cell_type": "code",
   "execution_count": null,
   "metadata": {},
   "outputs": [],
   "source": []
  }
 ],
 "metadata": {
  "kernelspec": {
   "display_name": "Python 3",
   "language": "python",
   "name": "python3"
  },
  "language_info": {
   "codemirror_mode": {
    "name": "ipython",
    "version": 3
   },
   "file_extension": ".py",
   "mimetype": "text/x-python",
   "name": "python",
   "nbconvert_exporter": "python",
   "pygments_lexer": "ipython3",
   "version": "3.8.8"
  }
 },
 "nbformat": 4,
 "nbformat_minor": 2
}
